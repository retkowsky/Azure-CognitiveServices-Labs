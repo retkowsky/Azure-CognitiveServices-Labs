{
 "cells": [
  {
   "cell_type": "markdown",
   "metadata": {},
   "source": [
    "# Text Analytics"
   ]
  },
  {
   "cell_type": "markdown",
   "metadata": {},
   "source": [
    "<img src=\"https://github.com/retkowsky/images/blob/master/acs.png?raw=true\">"
   ]
  },
  {
   "cell_type": "markdown",
   "metadata": {},
   "source": [
    "Documentation : https://docs.microsoft.com/en-us/azure/cognitive-services/text-analytics/"
   ]
  },
  {
   "cell_type": "markdown",
   "metadata": {},
   "source": [
    "## 1) Language\n",
    "\n",
    "https://docs.microsoft.com/en-us/azure/cognitive-services/text-analytics/how-tos/text-analytics-how-to-language-detection"
   ]
  },
  {
   "cell_type": "code",
   "execution_count": 1,
   "metadata": {},
   "outputs": [],
   "source": [
    "subscription_key = \"f5bd0cc15f804988984d9d18909c20cd\"\n",
    "assert subscription_key"
   ]
  },
  {
   "cell_type": "code",
   "execution_count": 2,
   "metadata": {},
   "outputs": [],
   "source": [
    "text_analytics_base_url = \"https://westeurope.api.cognitive.microsoft.com/text/analytics/v2.0\""
   ]
  },
  {
   "cell_type": "code",
   "execution_count": 3,
   "metadata": {},
   "outputs": [
    {
     "name": "stdout",
     "output_type": "stream",
     "text": [
      "https://westeurope.api.cognitive.microsoft.com/text/analytics/v2.0/languages\n"
     ]
    }
   ],
   "source": [
    "language_api_url = text_analytics_base_url + \"/languages\"\n",
    "print(language_api_url)"
   ]
  },
  {
   "cell_type": "code",
   "execution_count": 4,
   "metadata": {},
   "outputs": [],
   "source": [
    "documents = { 'documents': [\n",
    "    { 'id': '1', 'text': 'This is a document written in English.' },\n",
    "    { 'id': '2', 'text': 'Este es un document escrito en Español.' },\n",
    "    { 'id': '3', 'text': '这是一个用中文写的文件' },\n",
    "    { 'id': '4', 'text': 'Ceci est une présentation du service cognitif Azure Text Analytics.' },\n",
    "    { 'id': '5', 'text': 'सुप्रभात। आप ठीक तो हैं न?' }\n",
    "    ] }"
   ]
  },
  {
   "cell_type": "code",
   "execution_count": 5,
   "metadata": {},
   "outputs": [
    {
     "name": "stdout",
     "output_type": "stream",
     "text": [
      "{'documents': [{'detectedLanguages': [{'iso6391Name': 'en',\n",
      "                                       'name': 'English',\n",
      "                                       'score': 1.0}],\n",
      "                'id': '1'},\n",
      "               {'detectedLanguages': [{'iso6391Name': 'es',\n",
      "                                       'name': 'Spanish',\n",
      "                                       'score': 1.0}],\n",
      "                'id': '2'},\n",
      "               {'detectedLanguages': [{'iso6391Name': 'zh_chs',\n",
      "                                       'name': 'Chinese_Simplified',\n",
      "                                       'score': 1.0}],\n",
      "                'id': '3'},\n",
      "               {'detectedLanguages': [{'iso6391Name': 'fr',\n",
      "                                       'name': 'French',\n",
      "                                       'score': 1.0}],\n",
      "                'id': '4'},\n",
      "               {'detectedLanguages': [{'iso6391Name': 'hi',\n",
      "                                       'name': 'Hindi',\n",
      "                                       'score': 1.0}],\n",
      "                'id': '5'}],\n",
      " 'errors': []}\n"
     ]
    }
   ],
   "source": [
    "import requests\n",
    "from pprint import pprint\n",
    "headers   = {\"Ocp-Apim-Subscription-Key\": subscription_key}\n",
    "response  = requests.post(language_api_url, headers=headers, json=documents)\n",
    "languages = response.json()\n",
    "pprint(languages)"
   ]
  },
  {
   "cell_type": "code",
   "execution_count": 6,
   "metadata": {},
   "outputs": [
    {
     "data": {
      "text/html": [
       "<table><tr><th>Text</th><th>Detected languages(scores)</th></tr><tr><td>This is a document written in English.</td><td>English(1.0)</td>\n",
       "<tr><td>Este es un document escrito en Español.</td><td>Spanish(1.0)</td>\n",
       "<tr><td>这是一个用中文写的文件</td><td>Chinese_Simplified(1.0)</td>\n",
       "<tr><td>Ceci est une présentation du service cognitif Azure Text Analytics.</td><td>French(1.0)</td>\n",
       "<tr><td>सुप्रभात। आप ठीक तो हैं न?</td><td>Hindi(1.0)</td></table>"
      ],
      "text/plain": [
       "<IPython.core.display.HTML object>"
      ]
     },
     "execution_count": 6,
     "metadata": {},
     "output_type": "execute_result"
    }
   ],
   "source": [
    "from IPython.display import HTML\n",
    "table = []\n",
    "for document in languages[\"documents\"]:\n",
    "    text  = next(filter(lambda d: d[\"id\"] == document[\"id\"], documents[\"documents\"]))[\"text\"]\n",
    "    langs = \", \".join([\"{0}({1})\".format(lang[\"name\"], lang[\"score\"]) for lang in document[\"detectedLanguages\"]])\n",
    "    table.append(\"<tr><td>{0}</td><td>{1}</td>\".format(text, langs))\n",
    "HTML(\"<table><tr><th>Text</th><th>Detected languages(scores)</th></tr>{0}</table>\".format(\"\\n\".join(table)))"
   ]
  },
  {
   "cell_type": "markdown",
   "metadata": {},
   "source": [
    "## 2) Sentiment\n",
    "\n",
    "Text Analytics uses a machine learning classification algorithm to generate a sentiment score between 0 and 1. **Scores closer to 1 indicate positive sentiment, while scores closer to 0 indicate negative sentiment.** The model is pretrained with an extensive body of text with sentiment associations. Currently, it is not possible to provide your own training data. The model uses a combination of techniques during text analysis, including text processing, part-of-speech analysis, word placement, and word associations. For more information about the algorithm, see Introducing Text Analytics.\n",
    "\n",
    "Sentiment analysis is performed on the entire document, as opposed to extracting sentiment for a particular entity in the text. In practice, there is a tendency for scoring accuracy to improve when documents contain one or two sentences rather than a large block of text. During an objectivity assessment phase, the model determines whether a document as a whole is objective or contains sentiment. A document that is mostly objective does not progress to the sentiment detection phrase, resulting in a .50 score, with no further processing. For documents continuing in the pipeline, the next phase generates a score above or below .50, depending on the degree of sentiment detected in the document.\n",
    "\n",
    "> https://docs.microsoft.com/en-us/azure/cognitive-services/text-analytics/how-tos/text-analytics-how-to-sentiment-analysis"
   ]
  },
  {
   "cell_type": "code",
   "execution_count": 7,
   "metadata": {},
   "outputs": [
    {
     "name": "stdout",
     "output_type": "stream",
     "text": [
      "https://westeurope.api.cognitive.microsoft.com/text/analytics/v2.0/sentiment\n"
     ]
    }
   ],
   "source": [
    "sentiment_api_url = text_analytics_base_url + \"/sentiment\"\n",
    "print(sentiment_api_url)"
   ]
  },
  {
   "cell_type": "code",
   "execution_count": 8,
   "metadata": {},
   "outputs": [],
   "source": [
    "documents = {'documents' : [\n",
    "  {'id': '1', 'language': 'en', 'text': 'I had a wonderful experience! The rooms were wonderful and the staff was helpful.'},\n",
    "  {'id': '2', 'language': 'fr', 'text': \"Je suis très content de mon voyage en Australie. Je reviendrai.\"},\n",
    "  {'id': '3', 'language': 'fr', 'text': \"Le restaurant n'était vraiment pas bon et trop cher en plus.\"}\n",
    "]}"
   ]
  },
  {
   "cell_type": "code",
   "execution_count": 9,
   "metadata": {},
   "outputs": [
    {
     "name": "stdout",
     "output_type": "stream",
     "text": [
      "{'documents': [{'id': '1', 'score': 0.9734485149383545},\n",
      "               {'id': '2', 'score': 0.7375986576080322},\n",
      "               {'id': '3', 'score': 0.0}],\n",
      " 'errors': []}\n"
     ]
    }
   ],
   "source": [
    "headers   = {\"Ocp-Apim-Subscription-Key\": subscription_key}\n",
    "response  = requests.post(sentiment_api_url, headers=headers, json=documents)\n",
    "sentiments = response.json()\n",
    "pprint(sentiments)"
   ]
  },
  {
   "cell_type": "markdown",
   "metadata": {},
   "source": [
    "> Scores closer to 1 indicate positive sentiment, while scores closer to 0 indicate negative sentiment. "
   ]
  },
  {
   "cell_type": "markdown",
   "metadata": {},
   "source": [
    "## 3) Key phrases\n",
    "**The Key Phrase Extraction API** evaluates unstructured text, and for each JSON document, returns a list of **key phrases.**\n",
    "\n",
    "This capability is useful if you need to quickly identify the main points in a collection of documents. For example, given input text \"The food was delicious and there were wonderful staff\", the service returns the main talking points: \"food\" and \"wonderful staff\".\n",
    "\n",
    "Currently, Key Phrase Extraction supports English, German, Spanish, and Japanese. Other languages are in preview. For more information, see Supported languages.\n",
    "\n",
    "> https://docs.microsoft.com/en-us/azure/cognitive-services/text-analytics/how-tos/text-analytics-how-to-keyword-extraction"
   ]
  },
  {
   "cell_type": "code",
   "execution_count": 10,
   "metadata": {},
   "outputs": [
    {
     "name": "stdout",
     "output_type": "stream",
     "text": [
      "https://westeurope.api.cognitive.microsoft.com/text/analytics/v2.0/keyPhrases\n"
     ]
    }
   ],
   "source": [
    "key_phrase_api_url = text_analytics_base_url + \"/keyPhrases\"\n",
    "print(key_phrase_api_url)"
   ]
  },
  {
   "cell_type": "code",
   "execution_count": 11,
   "metadata": {},
   "outputs": [
    {
     "name": "stdout",
     "output_type": "stream",
     "text": [
      "{'documents': [{'id': '1',\n",
      "                'keyPhrases': ['wonderful experience', 'staff', 'rooms']},\n",
      "               {'id': '2',\n",
      "                'keyPhrases': ['food', 'terrible time', 'hotel', 'staff']},\n",
      "               {'id': '3', 'keyPhrases': ['vue', 'restaurant']},\n",
      "               {'id': '4',\n",
      "                'keyPhrases': ['présentation des services cognitifs']}],\n",
      " 'errors': []}\n"
     ]
    }
   ],
   "source": [
    "documents = {'documents' : [\n",
    "  {'id': '1', 'language': 'en', 'text': 'I had a wonderful experience! The rooms were wonderful and the staff was helpful.'},\n",
    "  {'id': '2', 'language': 'en', 'text': 'I had a terrible time at the hotel. The staff was rude and the food was awful.'},  \n",
    "  {'id': '3', 'language': 'fr', 'text': \"Le restaurant n'était vraiment pas bon et la vue pas terrible.\"},\n",
    "  {'id': '4', 'language': 'fr', 'text': \"Ceci est une présentation des services cognitifs Azure\"},  \n",
    "]}\n",
    "headers   = {'Ocp-Apim-Subscription-Key': subscription_key}\n",
    "response  = requests.post(key_phrase_api_url, headers=headers, json=documents)\n",
    "key_phrases = response.json()\n",
    "pprint(key_phrases)"
   ]
  },
  {
   "cell_type": "code",
   "execution_count": 12,
   "metadata": {},
   "outputs": [
    {
     "data": {
      "text/html": [
       "<table><tr><th>Text</th><th>Key phrases</th></tr><tr><td>I had a wonderful experience! The rooms were wonderful and the staff was helpful.</td><td>wonderful experience,staff,rooms</td>\n",
       "<tr><td>I had a terrible time at the hotel. The staff was rude and the food was awful.</td><td>food,terrible time,hotel,staff</td>\n",
       "<tr><td>Le restaurant n'était vraiment pas bon et la vue pas terrible.</td><td>vue,restaurant</td>\n",
       "<tr><td>Ceci est une présentation des services cognitifs Azure</td><td>présentation des services cognitifs</td></table>"
      ],
      "text/plain": [
       "<IPython.core.display.HTML object>"
      ]
     },
     "execution_count": 12,
     "metadata": {},
     "output_type": "execute_result"
    }
   ],
   "source": [
    "from IPython.display import HTML\n",
    "table = []\n",
    "for document in key_phrases[\"documents\"]:\n",
    "    text    = next(filter(lambda d: d[\"id\"] == document[\"id\"], documents[\"documents\"]))[\"text\"]    \n",
    "    phrases = \",\".join(document[\"keyPhrases\"])\n",
    "    table.append(\"<tr><td>{0}</td><td>{1}</td>\".format(text, phrases))\n",
    "HTML(\"<table><tr><th>Text</th><th>Key phrases</th></tr>{0}</table>\".format(\"\\n\".join(table)))"
   ]
  },
  {
   "cell_type": "markdown",
   "metadata": {},
   "source": [
    "## 4) Entities\n",
    "The Entity Recognition API takes unstructured text, and for each JSON document, returns a list of **disambiguated entities** with links to more information on the web (Wikipedia and Bing).\n",
    "\n",
    "> https://docs.microsoft.com/en-us/azure/cognitive-services/text-analytics/how-tos/text-analytics-how-to-entity-linking"
   ]
  },
  {
   "cell_type": "code",
   "execution_count": 13,
   "metadata": {},
   "outputs": [
    {
     "name": "stdout",
     "output_type": "stream",
     "text": [
      "https://westeurope.api.cognitive.microsoft.com/text/analytics/v2.0/entities\n"
     ]
    }
   ],
   "source": [
    "entity_linking_api_url = text_analytics_base_url + \"/entities\"\n",
    "print(entity_linking_api_url)"
   ]
  },
  {
   "cell_type": "code",
   "execution_count": 17,
   "metadata": {},
   "outputs": [],
   "source": [
    "documents = {'documents' : [\n",
    "  {'id': '1', 'text': \" Microsoft Corporation (/ˈmaɪkroʊsɒft/ MY-kroh-soft) is an American multinational technology company with headquarters in Redmond, Washington. It develops, manufactures, licenses, supports, and sells computer software, consumer electronics, personal computers, and related services. Its best known software products are the Microsoft Windows line of operating systems, the Microsoft Office suite, and the Internet Explorer and Edge web browsers. Its flagship hardware products are the Xbox video game consoles and the Microsoft Surface lineup of touchscreen personal computers. Microsoft ranked No. 21 in the 2020 Fortune 500 rankings of the largest United States corporations by total revenue;[3] it was the world's largest software maker by revenue as of 2016.[4] It is considered one of the Big Five companies in the U.S. information technology industry, along with Google, Apple, Amazon, and Facebook.\"},\n",
    "]}"
   ]
  },
  {
   "cell_type": "code",
   "execution_count": 18,
   "metadata": {},
   "outputs": [],
   "source": [
    "headers   = {\"Ocp-Apim-Subscription-Key\": subscription_key}\n",
    "response  = requests.post(entity_linking_api_url, headers=headers, json=documents)\n",
    "entities = response.json()"
   ]
  },
  {
   "cell_type": "code",
   "execution_count": 19,
   "metadata": {},
   "outputs": [
    {
     "name": "stdout",
     "output_type": "stream",
     "text": [
      "{'documents': [{'id': '1', 'entities': [{'name': 'Facebook', 'matches': [{'text': 'Facebook', 'offset': 896, 'length': 8}], 'wikipediaLanguage': 'en', 'wikipediaId': 'Facebook', 'wikipediaUrl': 'https://en.wikipedia.org/wiki/Facebook', 'bingId': '4bc8f781-7083-d1a0-f781-9466e0eb62e7'}, {'name': 'Microsoft', 'matches': [{'text': 'Microsoft Corporation', 'offset': 1, 'length': 21}, {'text': 'Microsoft', 'offset': 578, 'length': 9}], 'wikipediaLanguage': 'en', 'wikipediaId': 'Microsoft', 'wikipediaUrl': 'https://en.wikipedia.org/wiki/Microsoft', 'bingId': 'a093e9b9-90f5-a3d5-c4b8-5855e1b01f85'}, {'name': 'Redmond, Washington', 'matches': [{'text': 'Redmond, Washington', 'offset': 122, 'length': 19}], 'wikipediaLanguage': 'en', 'wikipediaId': 'Redmond, Washington', 'wikipediaUrl': 'https://en.wikipedia.org/wiki/Redmond,_Washington', 'bingId': '8769d4c0-b645-70ac-03ec-6eebabf6d26e'}, {'name': 'Microsoft Surface', 'matches': [{'text': 'Microsoft Surface', 'offset': 518, 'length': 17}], 'wikipediaLanguage': 'en', 'wikipediaId': 'Microsoft Surface', 'wikipediaUrl': 'https://en.wikipedia.org/wiki/Microsoft_Surface', 'bingId': 'd3cf09a9-76dd-973e-2179-47f7f24c5e37'}, {'name': 'Microsoft Windows', 'matches': [{'text': 'Microsoft Windows', 'offset': 324, 'length': 17}], 'wikipediaLanguage': 'en', 'wikipediaId': 'Microsoft Windows', 'wikipediaUrl': 'https://en.wikipedia.org/wiki/Microsoft_Windows', 'bingId': '16aeb6d9-9098-0a40-4970-8e46a4fcee12'}, {'name': 'Internet Explorer', 'matches': [{'text': 'Internet Explorer', 'offset': 405, 'length': 17}], 'wikipediaLanguage': 'en', 'wikipediaId': 'Internet Explorer', 'wikipediaUrl': 'https://en.wikipedia.org/wiki/Internet_Explorer', 'bingId': '15d85dba-6a04-1327-2f84-1589b6b310b8'}, {'name': 'Microsoft Office', 'matches': [{'text': 'Microsoft Office', 'offset': 373, 'length': 16}], 'wikipediaLanguage': 'en', 'wikipediaId': 'Microsoft Office', 'wikipediaUrl': 'https://en.wikipedia.org/wiki/Microsoft_Office', 'bingId': 'b6c6d65c-4f80-60fb-2799-08ad9229faf7'}, {'name': 'United States', 'matches': [{'text': 'United States', 'offset': 650, 'length': 13}, {'text': 'American', 'offset': 59, 'length': 8}, {'text': 'the U.S.', 'offset': 816, 'length': 8}], 'wikipediaLanguage': 'en', 'wikipediaId': 'United States', 'wikipediaUrl': 'https://en.wikipedia.org/wiki/United_States', 'bingId': '5232ed96-85b1-2edb-12c6-63e6c597a1de'}, {'name': 'Big5', 'matches': [{'text': 'the Big Five', 'offset': 790, 'length': 12}], 'wikipediaLanguage': 'en', 'wikipediaId': 'Big5', 'wikipediaUrl': 'https://en.wikipedia.org/wiki/Big5', 'bingId': 'd6df72f6-8ef7-0c21-322e-d65f25cf12d8'}, {'name': 'Fortune 500', 'matches': [{'text': 'Fortune 500', 'offset': 614, 'length': 11}], 'wikipediaLanguage': 'en', 'wikipediaId': 'Fortune 500', 'wikipediaUrl': 'https://en.wikipedia.org/wiki/Fortune_500', 'bingId': '7125533d-dc80-4728-892d-1adbe0032065'}, {'name': 'Google', 'matches': [{'text': 'Google', 'offset': 869, 'length': 6}], 'wikipediaLanguage': 'en', 'wikipediaId': 'Google', 'wikipediaUrl': 'https://en.wikipedia.org/wiki/Google', 'bingId': 'f39b29ec-05ee-d6cb-3070-ddaa0fb00ee0'}, {'name': 'Amazon (company)', 'matches': [{'text': 'Amazon', 'offset': 884, 'length': 6}], 'wikipediaLanguage': 'en', 'wikipediaId': 'Amazon (company)', 'wikipediaUrl': 'https://en.wikipedia.org/wiki/Amazon_(company)', 'bingId': 'ce00286a-e903-ff2c-7dac-b49bd707399c'}, {'name': 'Apple Inc.', 'matches': [{'text': 'Apple', 'offset': 877, 'length': 5}], 'wikipediaLanguage': 'en', 'wikipediaId': 'Apple Inc.', 'wikipediaUrl': 'https://en.wikipedia.org/wiki/Apple_Inc.', 'bingId': '6fa57c29-e813-4a1d-7fba-3541ca4c1dc3'}, {'name': 'Xbox (console)', 'matches': [{'text': 'Xbox', 'offset': 485, 'length': 4}], 'wikipediaLanguage': 'en', 'wikipediaId': 'Xbox (console)', 'wikipediaUrl': 'https://en.wikipedia.org/wiki/Xbox_(console)', 'bingId': 'e9aebe4e-60f9-48f4-957a-2cdf0ecc1a46'}, {'name': 'Microsoft Edge', 'matches': [{'text': 'Edge', 'offset': 427, 'length': 4}], 'wikipediaLanguage': 'en', 'wikipediaId': 'Microsoft Edge', 'wikipediaUrl': 'https://en.wikipedia.org/wiki/Microsoft_Edge', 'bingId': '46724816-656d-4985-947c-985664327930'}, {'name': 'MyNetworkTV', 'matches': [{'text': 'MY', 'offset': 39, 'length': 2}], 'wikipediaLanguage': 'en', 'wikipediaId': 'MyNetworkTV', 'wikipediaUrl': 'https://en.wikipedia.org/wiki/MyNetworkTV', 'bingId': 'c3cece04-6307-7bcd-4132-256f5d86bdca'}, {'name': 'Information technology', 'matches': [{'text': 'It', 'offset': 766, 'length': 2}], 'wikipediaLanguage': 'en', 'wikipediaId': 'Information technology', 'wikipediaUrl': 'https://en.wikipedia.org/wiki/Information_technology', 'bingId': 'e64c19da-5e18-892d-b025-4b7a0738c9b5'}]}], 'errors': []}\n"
     ]
    }
   ],
   "source": [
    "print(entities)"
   ]
  },
  {
   "cell_type": "code",
   "execution_count": null,
   "metadata": {},
   "outputs": [],
   "source": []
  }
 ],
 "metadata": {
  "kernelspec": {
   "display_name": "Python 3.6 - AzureML",
   "language": "python",
   "name": "python3-azureml"
  },
  "language_info": {
   "codemirror_mode": {
    "name": "ipython",
    "version": 3
   },
   "file_extension": ".py",
   "mimetype": "text/x-python",
   "name": "python",
   "nbconvert_exporter": "python",
   "pygments_lexer": "ipython3",
   "version": "3.6.9"
  }
 },
 "nbformat": 4,
 "nbformat_minor": 2
}
